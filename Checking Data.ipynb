{
 "cells": [
  {
   "cell_type": "markdown",
   "id": "686aae24-c447-419a-b704-18ebf7f270aa",
   "metadata": {},
   "source": [
    "# Import Libraries"
   ]
  },
  {
   "cell_type": "code",
   "execution_count": 7,
   "id": "954ea319-cbda-4289-aafd-4d8c66c50ef8",
   "metadata": {},
   "outputs": [],
   "source": [
    "from google.cloud import bigquery\n",
    "\n",
    "import pandas as pd\n",
    "import numpy as np\n",
    "import matplotlib.pyplot as plt\n",
    "import seaborn as sns\n",
    "from datetime import datetime, timedelta\n",
    "\n",
    "import warnings\n",
    "warnings.filterwarnings('ignore')\n",
    "pd.set_option('display.max_columns', 300)\n",
    "pd.set_option('display.float_format', lambda x: '%.2f' % x)"
   ]
  },
  {
   "cell_type": "markdown",
   "id": "c8994b92-d36b-4454-a493-61b0b3c041fd",
   "metadata": {},
   "source": [
    "# Function"
   ]
  },
  {
   "cell_type": "code",
   "execution_count": 8,
   "id": "9586f644-577e-495b-af1b-f6a9fbb5ee92",
   "metadata": {
    "tags": []
   },
   "outputs": [],
   "source": [
    "# Function for querying\n",
    "client = bigquery.Client()\n",
    "\n",
    "def get_data(query):\n",
    "    \"\"\"\n",
    "    Retrieve data from a query using a specified client and return as a DataFrame.\n",
    "\n",
    "    Parameters:\n",
    "        query (str): The query to execute.\n",
    "\n",
    "    Returns:\n",
    "        pandas.DataFrame: DataFrame containing the retrieved data.\n",
    "    \"\"\"\n",
    "    return client.query(query).to_dataframe()\n",
    "\n",
    "# Function to retrive year only in date\n",
    "def get_year(df, drop=True):\n",
    "    \"\"\"\n",
    "    Extract the year from the 'date' column in the DataFrame and create a new 'year' column.\n",
    "\n",
    "    Parameters:\n",
    "        df (pandas.DataFrame): Input DataFrame containing a 'date' column.\n",
    "        drop (bool): Whether to drop the original 'date' column. Default is True.\n",
    "\n",
    "    Returns:\n",
    "        pandas.DataFrame: DataFrame with a new 'year' column and the option to drop the 'date' column.\n",
    "    \"\"\"\n",
    "    df['year'] = pd.DatetimeIndex(df['date']).year.astype(int)\n",
    "    if drop:\n",
    "        df.drop(columns='date', inplace=True)\n",
    "    return df\n",
    "\n",
    "def get_unique_diff(data, unique_dates, unique_provinsi, unique_kota):\n",
    "    \"\"\"\n",
    "    Calculate the difference in unique values between the input data and specified unique values.\n",
    "\n",
    "    Parameters:\n",
    "        data (pandas.DataFrame): Input DataFrame.\n",
    "        unique_dates (list): List of unique dates.\n",
    "        unique_provinsi (list): List of unique 'provinsi' values.\n",
    "        unique_kota (list): List of unique 'kota' values.\n",
    "\n",
    "    Returns:\n",
    "        None (prints differences between input data and unique values).\n",
    "    \"\"\"\n",
    "    year_diff = set(data['year'].unique()) ^ set(unique_dates)\n",
    "    provinsi_diff = set(data['provinsi'].unique()) ^ set(unique_provinsi)\n",
    "    kota_diff = set(data['kota'].unique()) ^ set(unique_kota)\n",
    "\n",
    "    print(f\"Unique values in 'year' column (Difference): {year_diff}\")\n",
    "    print(f\"Unique values in 'provinsi' column (Difference): {provinsi_diff}\")\n",
    "    print(f\"Unique values in 'kota' column (Difference): {kota_diff}\")\n",
    "\n",
    "\n",
    "def check_dataframe(df):\n",
    "    \"\"\"\n",
    "    Check DataFrame for duplicates, NaN, None, or \"\" values in each column.\n",
    "    \n",
    "    Parameters:\n",
    "        df (pandas.DataFrame): Input DataFrame\n",
    "        \n",
    "    Returns:\n",
    "        str: Human-readable summary of DataFrame check results.\n",
    "    \"\"\"\n",
    "    output = \"\"\n",
    "    \n",
    "    has_duplicates = df.duplicated().any()\n",
    "    \n",
    "    if has_duplicates:\n",
    "        output += \"DataFrame contains duplicates\\n\"\n",
    "    else:\n",
    "        output += \"No duplicates found in DataFrame\\n\"\n",
    "    \n",
    "    for column in df.columns:\n",
    "        has_nan = df[column].isnull().any()\n",
    "        has_none = df[column].apply(lambda x: x is None).any()\n",
    "        has_empty_string = (df[column] == \"\").any()\n",
    "        \n",
    "        column_result = f\"Column '{column}':\"\n",
    "        \n",
    "        if has_nan or has_none or has_empty_string:\n",
    "            column_result += \"\\n\"\n",
    "            if has_nan:\n",
    "                column_result += \"    - Contains NaN values\\n\"\n",
    "            if has_none:\n",
    "                column_result += \"    - Contains None values\\n\"\n",
    "            if has_empty_string:\n",
    "                column_result += \"    - Contains empty string values\\n\"\n",
    "        else:\n",
    "            column_result += \" No issues found\\n\"\n",
    "        \n",
    "        output += column_result\n",
    "    \n",
    "    return output"
   ]
  },
  {
   "cell_type": "markdown",
   "id": "27527cc1-073c-48d2-baf7-52436e18ba2c",
   "metadata": {},
   "source": [
    "# Get Data"
   ]
  },
  {
   "cell_type": "markdown",
   "id": "b8af9f42-a18d-4eca-bf7b-0d883fb660d9",
   "metadata": {},
   "source": [
    "## Get Base Data"
   ]
  },
  {
   "cell_type": "code",
   "execution_count": 9,
   "id": "9822c4d5-682d-4ece-bc30-dac6c6851738",
   "metadata": {
    "tags": []
   },
   "outputs": [],
   "source": [
    "## Query Data -------------------------------------------\n",
    "# Get data\n",
    "katadata_food = get_data(\"SELECT provinsi, kota, date, value FROM `katadata-sales-planning.sandbox_spt.raw_rerata_pengeluaran_perkapita_sebulan_makanan_kabkota`\")\n",
    "katadata_non_food = get_data(\"SELECT provinsi, kota, date, value FROM `katadata-sales-planning.sandbox_spt.raw_rerata_pengeluaran_perkapita_sebulan_non_makanan_kabkota`\")\n",
    "katadata_total = get_data(\"SELECT provinsi, kota, date, value FROM `katadata-sales-planning.sandbox_spt.raw_rerata_pengeluaran_perkapita_sebulan_total_kabkota`\")\n",
    "katadata_prepared_food = get_data(\"SELECT provinsi, kota, date, value FROM `katadata-sales-planning.sandbox_spt.raw_rerata_pengeluaran_perkapita_sebulan_makanan_jadi_kabkota`\")\n",
    "\n",
    "## Adjust provinsi -------------------------------------------\n",
    "# Create a dictionary mapping 'kota' to 'provinsi' in katadata_food\n",
    "kota_to_provinsi_mapping = dict(zip(katadata_food['kota'], katadata_food['provinsi']))\n",
    "\n",
    "# Update 'provinsi' column in katadata_prepared_food based on the mapping\n",
    "katadata_prepared_food['provinsi'] = katadata_prepared_food['kota'].map(kota_to_provinsi_mapping)\n",
    "\n",
    "## Adjust date -------------------------------------------\n",
    "# Get year from date\n",
    "for data in [katadata_prepared_food, katadata_food, katadata_non_food, katadata_total]:\n",
    "    data = get_year(data)\n",
    "\n",
    "# Filter `katadata_prepared_food` to cover the period from 2019 to 2023\n",
    "katadata_prepared_food = katadata_prepared_food[(katadata_prepared_food['year'] >= 2018) & (katadata_prepared_food['year'] <= 2023)]\n",
    "\n",
    "# Filter predictor dataframes to cover the period from 2018 to 2023\n",
    "katadata_food = katadata_food[(katadata_food['year'] >= 2018) & (katadata_food['year'] <= 2023)]\n",
    "katadata_non_food = katadata_non_food[(katadata_non_food['year'] >= 2018) & (katadata_non_food['year'] <= 2023)]\n",
    "katadata_total = katadata_total[(katadata_total['year'] >= 2018) & (katadata_total['year'] <= 2023)]\n",
    "\n",
    "## Merge dataframes -------------------------------------------\n",
    "# Preprocess all values in the DataFrames\n",
    "for data in [katadata_prepared_food, katadata_food, katadata_non_food, katadata_total]:\n",
    "    data['value'] = data['value'].astype(float)\n",
    "    data['value'] = (data['value'] / 30) * 7 * 52\n",
    "\n",
    "# Rename columns for clarity and merge DataFrames\n",
    "merged_data = (\n",
    "    katadata_prepared_food.rename(columns={'value': 'prepared_food_exp'})\n",
    "    .merge(\n",
    "        katadata_food.rename(columns={'value': 'food_exp'}),\n",
    "        on=['provinsi', 'kota', 'year'], how='left'\n",
    "    )\n",
    "    .merge(\n",
    "        katadata_non_food.rename(columns={'value': 'non_food_exp'}),\n",
    "        on=['provinsi', 'kota', 'year'], how='left'\n",
    "    )\n",
    "    .merge(\n",
    "        katadata_total.rename(columns={'value': 'total_exp'}),\n",
    "        on=['provinsi', 'kota', 'year'], how='left'\n",
    "    )\n",
    ")\n",
    "\n",
    "# Adjust column order and sort the DataFrame\n",
    "base_data = (\n",
    "    merged_data[['year', 'provinsi', 'kota', 'prepared_food_exp',\n",
    "                 'food_exp', 'non_food_exp', 'total_exp']]\n",
    "    .groupby(['provinsi', 'kota', 'year']).max().reset_index()\n",
    ")"
   ]
  },
  {
   "cell_type": "code",
   "execution_count": 10,
   "id": "dcd7d35f-e692-442f-8627-34abda51077c",
   "metadata": {
    "tags": []
   },
   "outputs": [],
   "source": [
    "# Get unique values of data\n",
    "base_data_year_unique = base_data['year'].unique()\n",
    "base_data_provinsi_unique = base_data['provinsi'].unique()\n",
    "base_data_kota_unique = base_data['kota'].unique()"
   ]
  },
  {
   "cell_type": "markdown",
   "id": "7af26887-59c0-4b19-9b5d-d6dbcd74f7bc",
   "metadata": {},
   "source": [
    "## Get Podes & Susenas Data"
   ]
  },
  {
   "cell_type": "code",
   "execution_count": 64,
   "id": "501f0380-c2c6-4703-85d0-817f0012b46c",
   "metadata": {
    "tags": []
   },
   "outputs": [],
   "source": [
    "## Time frame per year\n",
    "# Get Podes data\n",
    "jumlah_restaurant = get_data(\"SELECT year, kota_kab, prov, restaurant FROM `katadata-sales-planning.sandbox_spt.raw_data_podes`\")\n",
    "jumlah_intansi_pendidikan = get_data(\"SELECT year, kota_kab, prov, elementary, high_school, mid_school, perguruan_tinggi FROM `katadata-sales-planning.sandbox_spt.raw_data_podes`\")\n",
    "\n",
    "# Get Susenas data\n",
    "pdrb = get_data(\"SELECT nama, provinsi, kota, date, value FROM `katadata-sales-planning.sandbox_spt.raw_pdrb_adhk_kabkota`\")\n",
    "jumlah_penduduk = get_data(\"SELECT provinsi, kota, date, value FROM `katadata-sales-planning.sandbox_spt.raw_jumlah_penduduk_kabkota`\")\n",
    "penduduk_laki_laki = get_data(\"SELECT provinsi, date, value FROM `katadata-sales-planning.sandbox_spt.raw_jumlah_penduduk_laki_laki_provinsi`\")\n",
    "penduduk_perempuan = get_data(\"SELECT provinsi, date, value FROM `katadata-sales-planning.sandbox_spt.raw_jumlah_penduduk_perempuan_provinsi`\")\n",
    "kategori_usia = get_data(\"SELECT nama, provinsi, kota, date, value FROM `katadata-sales-planning.sandbox_spt.raw_jumlah_penduduk_kategori_usia_kabkota`\")\n",
    "\n",
    "## Timeframe per month\n",
    "# Get Susenas data\n",
    "indeks_harga_konsumen = get_data(\"SELECT kota, provinsi, date, value FROM `katadata-sales-planning.sandbox_spt.raw_indeks_harga_konsumen_kabkota`\")\n",
    "inflasi = get_data(\"SELECT date, provinsi, kota, value FROM `katadata-sales-planning.katadata_sales_planning.p2_inflasi_ytd_90kota`\")\n",
    "\n",
    "## Initial preprocessing\n",
    "# date to year\n",
    "for data in [pdrb, jumlah_penduduk, penduduk_laki_laki, penduduk_perempuan, kategori_usia, indeks_harga_konsumen, inflasi]:\n",
    "    try:\n",
    "        data = get_year(data)\n",
    "    except:\n",
    "        pass\n",
    "\n",
    "# Preprocess all values in the DataFrames\n",
    "for data in [pdrb, indeks_harga_konsumen, inflasi]:\n",
    "    try:\n",
    "        data['value'] = data['value'].astype(float)\n",
    "    except:\n",
    "        pass\n",
    "    \n",
    "for data in [jumlah_restaurant, jumlah_intansi_pendidikan, jumlah_penduduk, penduduk_laki_laki, penduduk_perempuan, kategori_usia]:\n",
    "    try:\n",
    "        data['value'] = data['value'].astype(float)\n",
    "        data['value'] = data['value'].astype(int)\n",
    "    except:\n",
    "        pass"
   ]
  },
  {
   "cell_type": "markdown",
   "id": "5bc85c72-4bcd-4302-8b65-d8ac7db26ed1",
   "metadata": {},
   "source": [
    "# Data Preprocessing"
   ]
  },
  {
   "cell_type": "markdown",
   "id": "0d762057-c26b-4e4b-b50c-9d2d41a9460f",
   "metadata": {
    "tags": []
   },
   "source": [
    "## PDRB"
   ]
  },
  {
   "cell_type": "code",
   "execution_count": 18,
   "id": "ccdbe0aa-f1bc-475b-8b99-8c7de290a00d",
   "metadata": {
    "tags": []
   },
   "outputs": [
    {
     "name": "stdout",
     "output_type": "stream",
     "text": [
      "No duplicates found in DataFrame\n",
      "Column 'nama': No issues found\n",
      "Column 'provinsi': No issues found\n",
      "Column 'kota': No issues found\n",
      "Column 'date':\n",
      "    - Contains empty string values\n",
      "Column 'value':\n",
      "    - Contains empty string values\n",
      "\n"
     ]
    }
   ],
   "source": [
    "# Basic check\n",
    "print(check_dataframe(pdrb))"
   ]
  },
  {
   "cell_type": "markdown",
   "id": "5b61eb10-c8d4-4b0f-b445-1ca4b7fcf191",
   "metadata": {},
   "source": [
    "pdrb_fnbThe PDRB sectors that will be used are **PDRB ADHK Sektor Industri Pengolahan Menurut Kabupaten Kota** with the related subsector being **Industri Makanan dan Minuman**, and **PDRB ADHK Sektor Penyediaan Akomodasi dan Makan Minum Menurut Kabupaten Kota** with the related subsector being **Penyediaan Makan Minum**, as they are related to spending on food and beverages."
   ]
  },
  {
   "cell_type": "code",
   "execution_count": 19,
   "id": "261c9bf1-e331-4a23-969f-c8bcd243f3f6",
   "metadata": {
    "tags": []
   },
   "outputs": [],
   "source": [
    "# Handle issues\n",
    "pdrb = pdrb.replace({'None': 0, np.nan: 0, '': 0})\n",
    "pdrb = get_year(pdrb)\n",
    "\n",
    "# Filter and make nama as a column\n",
    "pdrb_fnb = pdrb[(pdrb['nama'] == 'PDRB ADHK Sektor Penyediaan Akomodasi dan Makan Minum Menurut Kabupaten Kota') | (pdrb['nama'] == 'PDRB ADHK Sektor Industri Pengolahan Menurut Kabupaten Kota')]\n",
    "pdrb_fnb = pdrb_fnb.pivot_table(index=['provinsi', 'kota', 'year'], columns='nama', values='value', aggfunc='first').reset_index().rename_axis(None, axis=1)\n",
    "pdrb_fnb = pdrb_fnb.rename(columns = {'PDRB ADHK Sektor Industri Pengolahan Menurut Kabupaten Kota':'pdrb_adhk_pengolahan', 'PDRB ADHK Sektor Penyediaan Akomodasi dan Makan Minum Menurut Kabupaten Kota':'pdrb_adhk_penyediaan'})\n",
    "\n",
    "# Change values type from object to float\n",
    "for col in pdrb_fnb.iloc[:,3:].columns:\n",
    "    pdrb_fnb[col] = pdrb_fnb[col].astype(float)\n",
    "\n",
    "# Filter timeframe\n",
    "pdrb_fnb['year'] = pdrb_fnb['year'].astype(int)\n",
    "pdrb_fnb = pdrb_fnb[pdrb_fnb['year']>=2018]\n",
    "\n",
    "# Combine pdrb_adhk_pengolahan & pdrb_adhk_penyediaan as pdrb_adhk_prepare_food\n",
    "pdrb_fnb['pdrb_adhk_prepare_food'] = pdrb_fnb['pdrb_adhk_pengolahan'] + pdrb_fnb['pdrb_adhk_penyediaan']"
   ]
  },
  {
   "cell_type": "markdown",
   "id": "d8e3bae7-2073-4bcc-a57a-20221d7fbd1b",
   "metadata": {},
   "source": [
    "Final checking of `pdrb_fnb` differences with target data will be based on the unique values of year, provinsi, and kota."
   ]
  },
  {
   "cell_type": "code",
   "execution_count": 20,
   "id": "142cdeff-b695-44e0-86ea-e9e49164ea00",
   "metadata": {
    "tags": []
   },
   "outputs": [
    {
     "name": "stdout",
     "output_type": "stream",
     "text": [
      "Unique values in 'year' column (Difference): {2023}\n",
      "Unique values in 'provinsi' column (Difference): set()\n",
      "Unique values in 'kota' column (Difference): set()\n"
     ]
    }
   ],
   "source": [
    "get_unique_diff(pdrb_fnb, base_data_year_unique, base_data_provinsi_unique, base_data_kota_unique)"
   ]
  },
  {
   "cell_type": "markdown",
   "id": "49b6cf56-eb32-48cb-ad17-f05817121624",
   "metadata": {
    "tags": []
   },
   "source": [
    "The 2023 data will be filled by extrapolation in the later step."
   ]
  },
  {
   "cell_type": "markdown",
   "id": "0aff1146-2e6e-4c13-8762-db118e216179",
   "metadata": {},
   "source": [
    "## Jumlah Penduduk"
   ]
  },
  {
   "cell_type": "code",
   "execution_count": 21,
   "id": "490a7335-435d-4ea6-8e99-052f76c00696",
   "metadata": {
    "tags": []
   },
   "outputs": [
    {
     "name": "stdout",
     "output_type": "stream",
     "text": [
      "DataFrame contains duplicates\n",
      "Column 'provinsi': No issues found\n",
      "Column 'kota': No issues found\n",
      "Column 'value': No issues found\n",
      "Column 'year': No issues found\n",
      "\n"
     ]
    }
   ],
   "source": [
    "# Basic check\n",
    "print(check_dataframe(jumlah_penduduk))"
   ]
  },
  {
   "cell_type": "code",
   "execution_count": 65,
   "id": "13f79b45-020c-43f1-9fbd-30e6c44e008c",
   "metadata": {
    "tags": []
   },
   "outputs": [],
   "source": [
    "# Handle issues\n",
    "jumlah_penduduk = jumlah_penduduk[~jumlah_penduduk.duplicated()]\n",
    "jumlah_penduduk.rename(columns = {'value':'jumlah_penduduk'}, inplace = True)\n",
    "\n",
    "# Filter timeframe\n",
    "jumlah_penduduk = jumlah_penduduk[jumlah_penduduk['year']>=2018]"
   ]
  },
  {
   "cell_type": "markdown",
   "id": "b71f7fe2-9b9a-4972-aa78-0981e50bc904",
   "metadata": {},
   "source": [
    "Final checking of `jumlah_penduduk` differences with target data will be based on the unique values of year, provinsi, and kota."
   ]
  },
  {
   "cell_type": "code",
   "execution_count": 23,
   "id": "121d7a7f-61b5-41bf-ad9b-03533a1720f4",
   "metadata": {
    "tags": []
   },
   "outputs": [
    {
     "name": "stdout",
     "output_type": "stream",
     "text": [
      "Unique values in 'year' column (Difference): {2022}\n",
      "Unique values in 'provinsi' column (Difference): {'Kalimantan Utara'}\n",
      "Unique values in 'kota' column (Difference): set()\n"
     ]
    }
   ],
   "source": [
    "get_unique_diff(jumlah_penduduk, base_data_year_unique, base_data_provinsi_unique, base_data_kota_unique)"
   ]
  },
  {
   "cell_type": "markdown",
   "id": "ff29eec6-d8b4-4e9d-a610-d48e98f80c90",
   "metadata": {
    "tags": []
   },
   "source": [
    "The 2022 data will be filled by extrapolation in the later step."
   ]
  },
  {
   "cell_type": "markdown",
   "id": "caadf6c5-bad0-41af-9f8e-044612fd3dfc",
   "metadata": {},
   "source": [
    "## Jumlah Penduduk Laki-Laki & Perempuan"
   ]
  },
  {
   "cell_type": "code",
   "execution_count": 24,
   "id": "12f2eba0-f6c2-40d6-b3d2-32979a5d3239",
   "metadata": {
    "tags": []
   },
   "outputs": [
    {
     "name": "stdout",
     "output_type": "stream",
     "text": [
      "No duplicates found in DataFrame\n",
      "Column 'provinsi': No issues found\n",
      "Column 'value': No issues found\n",
      "Column 'year': No issues found\n",
      "\n"
     ]
    }
   ],
   "source": [
    "# Basic check\n",
    "print(check_dataframe(penduduk_laki_laki))"
   ]
  },
  {
   "cell_type": "code",
   "execution_count": 25,
   "id": "f8bb3b5a-2219-47e5-92bc-88c6f9af71ba",
   "metadata": {
    "tags": []
   },
   "outputs": [
    {
     "name": "stdout",
     "output_type": "stream",
     "text": [
      "No duplicates found in DataFrame\n",
      "Column 'provinsi': No issues found\n",
      "Column 'value': No issues found\n",
      "Column 'year': No issues found\n",
      "\n"
     ]
    }
   ],
   "source": [
    "# Basic check\n",
    "print(check_dataframe(penduduk_perempuan))"
   ]
  },
  {
   "cell_type": "code",
   "execution_count": 66,
   "id": "47aa20de-d1b0-4d68-a8c5-6685d8de1141",
   "metadata": {
    "tags": []
   },
   "outputs": [
    {
     "data": {
      "text/html": [
       "<div>\n",
       "<style scoped>\n",
       "    .dataframe tbody tr th:only-of-type {\n",
       "        vertical-align: middle;\n",
       "    }\n",
       "\n",
       "    .dataframe tbody tr th {\n",
       "        vertical-align: top;\n",
       "    }\n",
       "\n",
       "    .dataframe thead th {\n",
       "        text-align: right;\n",
       "    }\n",
       "</style>\n",
       "<table border=\"1\" class=\"dataframe\">\n",
       "  <thead>\n",
       "    <tr style=\"text-align: right;\">\n",
       "      <th></th>\n",
       "      <th>provinsi</th>\n",
       "      <th>kota</th>\n",
       "      <th>jumlah_penduduk</th>\n",
       "      <th>year</th>\n",
       "    </tr>\n",
       "  </thead>\n",
       "  <tbody>\n",
       "    <tr>\n",
       "      <th>1</th>\n",
       "      <td>Jawa Barat</td>\n",
       "      <td>Kab. Pangandaran</td>\n",
       "      <td>401493</td>\n",
       "      <td>2020</td>\n",
       "    </tr>\n",
       "    <tr>\n",
       "      <th>2</th>\n",
       "      <td>Jawa Barat</td>\n",
       "      <td>Kab. Pangandaran</td>\n",
       "      <td>399284</td>\n",
       "      <td>2019</td>\n",
       "    </tr>\n",
       "    <tr>\n",
       "      <th>3</th>\n",
       "      <td>Jawa Barat</td>\n",
       "      <td>Kab. Pangandaran</td>\n",
       "      <td>397187</td>\n",
       "      <td>2018</td>\n",
       "    </tr>\n",
       "    <tr>\n",
       "      <th>12</th>\n",
       "      <td>Jawa Barat</td>\n",
       "      <td>Kab. Pangandaran</td>\n",
       "      <td>433091</td>\n",
       "      <td>2021</td>\n",
       "    </tr>\n",
       "    <tr>\n",
       "      <th>13</th>\n",
       "      <td>Jawa Barat</td>\n",
       "      <td>Kab. Pangandaran</td>\n",
       "      <td>440177</td>\n",
       "      <td>2023</td>\n",
       "    </tr>\n",
       "    <tr>\n",
       "      <th>...</th>\n",
       "      <td>...</td>\n",
       "      <td>...</td>\n",
       "      <td>...</td>\n",
       "      <td>...</td>\n",
       "    </tr>\n",
       "    <tr>\n",
       "      <th>15332</th>\n",
       "      <td>Kep. Bangka Belitung</td>\n",
       "      <td>Kab. Bangka Barat</td>\n",
       "      <td>209011</td>\n",
       "      <td>2018</td>\n",
       "    </tr>\n",
       "    <tr>\n",
       "      <th>15333</th>\n",
       "      <td>Kep. Bangka Belitung</td>\n",
       "      <td>Kab. Bangka Barat</td>\n",
       "      <td>213163</td>\n",
       "      <td>2019</td>\n",
       "    </tr>\n",
       "    <tr>\n",
       "      <th>15334</th>\n",
       "      <td>Kep. Bangka Belitung</td>\n",
       "      <td>Kab. Bangka Barat</td>\n",
       "      <td>217332</td>\n",
       "      <td>2020</td>\n",
       "    </tr>\n",
       "    <tr>\n",
       "      <th>15335</th>\n",
       "      <td>Kep. Bangka Belitung</td>\n",
       "      <td>Kab. Bangka Barat</td>\n",
       "      <td>206937</td>\n",
       "      <td>2021</td>\n",
       "    </tr>\n",
       "    <tr>\n",
       "      <th>15336</th>\n",
       "      <td>Kep. Bangka Belitung</td>\n",
       "      <td>Kab. Bangka Barat</td>\n",
       "      <td>211566</td>\n",
       "      <td>2023</td>\n",
       "    </tr>\n",
       "  </tbody>\n",
       "</table>\n",
       "<p>2367 rows × 4 columns</p>\n",
       "</div>"
      ],
      "text/plain": [
       "                   provinsi               kota  jumlah_penduduk  year\n",
       "1                Jawa Barat   Kab. Pangandaran           401493  2020\n",
       "2                Jawa Barat   Kab. Pangandaran           399284  2019\n",
       "3                Jawa Barat   Kab. Pangandaran           397187  2018\n",
       "12               Jawa Barat   Kab. Pangandaran           433091  2021\n",
       "13               Jawa Barat   Kab. Pangandaran           440177  2023\n",
       "...                     ...                ...              ...   ...\n",
       "15332  Kep. Bangka Belitung  Kab. Bangka Barat           209011  2018\n",
       "15333  Kep. Bangka Belitung  Kab. Bangka Barat           213163  2019\n",
       "15334  Kep. Bangka Belitung  Kab. Bangka Barat           217332  2020\n",
       "15335  Kep. Bangka Belitung  Kab. Bangka Barat           206937  2021\n",
       "15336  Kep. Bangka Belitung  Kab. Bangka Barat           211566  2023\n",
       "\n",
       "[2367 rows x 4 columns]"
      ]
     },
     "execution_count": 66,
     "metadata": {},
     "output_type": "execute_result"
    }
   ],
   "source": [
    "jumlah_penduduk"
   ]
  },
  {
   "cell_type": "markdown",
   "id": "3dd195bb-8e64-44b1-9520-67817bd1823c",
   "metadata": {},
   "source": [
    "The data needs to be handled further to create city-level referencing based on jumlah penduduk"
   ]
  },
  {
   "cell_type": "code",
   "execution_count": 68,
   "id": "613ea9c8-b9f9-4355-9924-b33f9425d9cb",
   "metadata": {
    "tags": []
   },
   "outputs": [],
   "source": [
    "jumlah_penduduk_provinsi = get_data(\"SELECT provinsi, date, value FROM `katadata-sales-planning.sandbox_spt.raw_jumlah_penduduk_provinsi`\")"
   ]
  },
  {
   "cell_type": "code",
   "execution_count": 82,
   "id": "8df4bfa2-2cf4-45f9-8c3e-b9b7d7b80a38",
   "metadata": {
    "tags": []
   },
   "outputs": [],
   "source": [
    "# Create jumlah penduduk at province level\n",
    "jumlah_penduduk_provinsi_groupby_manual = jumlah_penduduk.groupby(['provinsi', 'year'])[['jumlah_penduduk']].sum().reset_index()\n",
    "jumlah_penduduk_provinsi_groupby_manual.rename(columns = {'jumlah_penduduk':'jumlah_penduduk_groupby'}, inplace = True)"
   ]
  },
  {
   "cell_type": "code",
   "execution_count": 81,
   "id": "5b0ff976-7716-498c-9940-19b91890773e",
   "metadata": {
    "collapsed": true,
    "jupyter": {
     "outputs_hidden": true
    },
    "tags": []
   },
   "outputs": [
    {
     "ename": "KeyError",
     "evalue": "'date'",
     "output_type": "error",
     "traceback": [
      "\u001b[0;31m---------------------------------------------------------------------------\u001b[0m",
      "\u001b[0;31mKeyError\u001b[0m                                  Traceback (most recent call last)",
      "File \u001b[0;32m/opt/conda/envs/katadata/lib/python3.10/site-packages/pandas/core/indexes/base.py:3653\u001b[0m, in \u001b[0;36mIndex.get_loc\u001b[0;34m(self, key)\u001b[0m\n\u001b[1;32m   3652\u001b[0m \u001b[38;5;28;01mtry\u001b[39;00m:\n\u001b[0;32m-> 3653\u001b[0m     \u001b[38;5;28;01mreturn\u001b[39;00m \u001b[38;5;28;43mself\u001b[39;49m\u001b[38;5;241;43m.\u001b[39;49m\u001b[43m_engine\u001b[49m\u001b[38;5;241;43m.\u001b[39;49m\u001b[43mget_loc\u001b[49m\u001b[43m(\u001b[49m\u001b[43mcasted_key\u001b[49m\u001b[43m)\u001b[49m\n\u001b[1;32m   3654\u001b[0m \u001b[38;5;28;01mexcept\u001b[39;00m \u001b[38;5;167;01mKeyError\u001b[39;00m \u001b[38;5;28;01mas\u001b[39;00m err:\n",
      "File \u001b[0;32m/opt/conda/envs/katadata/lib/python3.10/site-packages/pandas/_libs/index.pyx:147\u001b[0m, in \u001b[0;36mpandas._libs.index.IndexEngine.get_loc\u001b[0;34m()\u001b[0m\n",
      "File \u001b[0;32m/opt/conda/envs/katadata/lib/python3.10/site-packages/pandas/_libs/index.pyx:176\u001b[0m, in \u001b[0;36mpandas._libs.index.IndexEngine.get_loc\u001b[0;34m()\u001b[0m\n",
      "File \u001b[0;32mpandas/_libs/hashtable_class_helper.pxi:7080\u001b[0m, in \u001b[0;36mpandas._libs.hashtable.PyObjectHashTable.get_item\u001b[0;34m()\u001b[0m\n",
      "File \u001b[0;32mpandas/_libs/hashtable_class_helper.pxi:7088\u001b[0m, in \u001b[0;36mpandas._libs.hashtable.PyObjectHashTable.get_item\u001b[0;34m()\u001b[0m\n",
      "\u001b[0;31mKeyError\u001b[0m: 'date'",
      "\nThe above exception was the direct cause of the following exception:\n",
      "\u001b[0;31mKeyError\u001b[0m                                  Traceback (most recent call last)",
      "Cell \u001b[0;32mIn[81], line 1\u001b[0m\n\u001b[0;32m----> 1\u001b[0m jumlah_penduduk_provinsi \u001b[38;5;241m=\u001b[39m \u001b[43mget_year\u001b[49m\u001b[43m(\u001b[49m\u001b[43mjumlah_penduduk_provinsi\u001b[49m\u001b[43m)\u001b[49m\n\u001b[1;32m      2\u001b[0m jumlah_penduduk_provinsi\u001b[38;5;241m.\u001b[39mrename(columns \u001b[38;5;241m=\u001b[39m {\u001b[38;5;124m'\u001b[39m\u001b[38;5;124mvalue\u001b[39m\u001b[38;5;124m'\u001b[39m:\u001b[38;5;124m'\u001b[39m\u001b[38;5;124mjumlah_penduduk_query\u001b[39m\u001b[38;5;124m'\u001b[39m}, inplace \u001b[38;5;241m=\u001b[39m \u001b[38;5;28;01mTrue\u001b[39;00m)\n",
      "Cell \u001b[0;32mIn[8], line 28\u001b[0m, in \u001b[0;36mget_year\u001b[0;34m(df, drop)\u001b[0m\n\u001b[1;32m     17\u001b[0m \u001b[38;5;28;01mdef\u001b[39;00m \u001b[38;5;21mget_year\u001b[39m(df, drop\u001b[38;5;241m=\u001b[39m\u001b[38;5;28;01mTrue\u001b[39;00m):\n\u001b[1;32m     18\u001b[0m \u001b[38;5;250m    \u001b[39m\u001b[38;5;124;03m\"\"\"\u001b[39;00m\n\u001b[1;32m     19\u001b[0m \u001b[38;5;124;03m    Extract the year from the 'date' column in the DataFrame and create a new 'year' column.\u001b[39;00m\n\u001b[1;32m     20\u001b[0m \n\u001b[0;32m   (...)\u001b[0m\n\u001b[1;32m     26\u001b[0m \u001b[38;5;124;03m        pandas.DataFrame: DataFrame with a new 'year' column and the option to drop the 'date' column.\u001b[39;00m\n\u001b[1;32m     27\u001b[0m \u001b[38;5;124;03m    \"\"\"\u001b[39;00m\n\u001b[0;32m---> 28\u001b[0m     df[\u001b[38;5;124m'\u001b[39m\u001b[38;5;124myear\u001b[39m\u001b[38;5;124m'\u001b[39m] \u001b[38;5;241m=\u001b[39m pd\u001b[38;5;241m.\u001b[39mDatetimeIndex(\u001b[43mdf\u001b[49m\u001b[43m[\u001b[49m\u001b[38;5;124;43m'\u001b[39;49m\u001b[38;5;124;43mdate\u001b[39;49m\u001b[38;5;124;43m'\u001b[39;49m\u001b[43m]\u001b[49m)\u001b[38;5;241m.\u001b[39myear\u001b[38;5;241m.\u001b[39mastype(\u001b[38;5;28mint\u001b[39m)\n\u001b[1;32m     29\u001b[0m     \u001b[38;5;28;01mif\u001b[39;00m drop:\n\u001b[1;32m     30\u001b[0m         df\u001b[38;5;241m.\u001b[39mdrop(columns\u001b[38;5;241m=\u001b[39m\u001b[38;5;124m'\u001b[39m\u001b[38;5;124mdate\u001b[39m\u001b[38;5;124m'\u001b[39m, inplace\u001b[38;5;241m=\u001b[39m\u001b[38;5;28;01mTrue\u001b[39;00m)\n",
      "File \u001b[0;32m/opt/conda/envs/katadata/lib/python3.10/site-packages/pandas/core/frame.py:3761\u001b[0m, in \u001b[0;36mDataFrame.__getitem__\u001b[0;34m(self, key)\u001b[0m\n\u001b[1;32m   3759\u001b[0m \u001b[38;5;28;01mif\u001b[39;00m \u001b[38;5;28mself\u001b[39m\u001b[38;5;241m.\u001b[39mcolumns\u001b[38;5;241m.\u001b[39mnlevels \u001b[38;5;241m>\u001b[39m \u001b[38;5;241m1\u001b[39m:\n\u001b[1;32m   3760\u001b[0m     \u001b[38;5;28;01mreturn\u001b[39;00m \u001b[38;5;28mself\u001b[39m\u001b[38;5;241m.\u001b[39m_getitem_multilevel(key)\n\u001b[0;32m-> 3761\u001b[0m indexer \u001b[38;5;241m=\u001b[39m \u001b[38;5;28;43mself\u001b[39;49m\u001b[38;5;241;43m.\u001b[39;49m\u001b[43mcolumns\u001b[49m\u001b[38;5;241;43m.\u001b[39;49m\u001b[43mget_loc\u001b[49m\u001b[43m(\u001b[49m\u001b[43mkey\u001b[49m\u001b[43m)\u001b[49m\n\u001b[1;32m   3762\u001b[0m \u001b[38;5;28;01mif\u001b[39;00m is_integer(indexer):\n\u001b[1;32m   3763\u001b[0m     indexer \u001b[38;5;241m=\u001b[39m [indexer]\n",
      "File \u001b[0;32m/opt/conda/envs/katadata/lib/python3.10/site-packages/pandas/core/indexes/base.py:3655\u001b[0m, in \u001b[0;36mIndex.get_loc\u001b[0;34m(self, key)\u001b[0m\n\u001b[1;32m   3653\u001b[0m     \u001b[38;5;28;01mreturn\u001b[39;00m \u001b[38;5;28mself\u001b[39m\u001b[38;5;241m.\u001b[39m_engine\u001b[38;5;241m.\u001b[39mget_loc(casted_key)\n\u001b[1;32m   3654\u001b[0m \u001b[38;5;28;01mexcept\u001b[39;00m \u001b[38;5;167;01mKeyError\u001b[39;00m \u001b[38;5;28;01mas\u001b[39;00m err:\n\u001b[0;32m-> 3655\u001b[0m     \u001b[38;5;28;01mraise\u001b[39;00m \u001b[38;5;167;01mKeyError\u001b[39;00m(key) \u001b[38;5;28;01mfrom\u001b[39;00m \u001b[38;5;21;01merr\u001b[39;00m\n\u001b[1;32m   3656\u001b[0m \u001b[38;5;28;01mexcept\u001b[39;00m \u001b[38;5;167;01mTypeError\u001b[39;00m:\n\u001b[1;32m   3657\u001b[0m     \u001b[38;5;66;03m# If we have a listlike key, _check_indexing_error will raise\u001b[39;00m\n\u001b[1;32m   3658\u001b[0m     \u001b[38;5;66;03m#  InvalidIndexError. Otherwise we fall through and re-raise\u001b[39;00m\n\u001b[1;32m   3659\u001b[0m     \u001b[38;5;66;03m#  the TypeError.\u001b[39;00m\n\u001b[1;32m   3660\u001b[0m     \u001b[38;5;28mself\u001b[39m\u001b[38;5;241m.\u001b[39m_check_indexing_error(key)\n",
      "\u001b[0;31mKeyError\u001b[0m: 'date'"
     ]
    }
   ],
   "source": [
    "jumlah_penduduk_provinsi = get_year(jumlah_penduduk_provinsi)"
   ]
  },
  {
   "cell_type": "code",
   "execution_count": 83,
   "id": "2d4bf194-af00-4250-bfa5-69513db64407",
   "metadata": {
    "tags": []
   },
   "outputs": [],
   "source": [
    "jumlah_penduduk_provinsi.rename(columns = {'value':'jumlah_penduduk_query'}, inplace = True)"
   ]
  },
  {
   "cell_type": "code",
   "execution_count": 90,
   "id": "79c308cb-e2bd-4748-8731-1e7a5559446f",
   "metadata": {
    "tags": []
   },
   "outputs": [],
   "source": [
    "jumlah_penduduk_provinsi['jumlah_penduduk_query'] = jumlah_penduduk_provinsi['jumlah_penduduk_query'].astype(float)"
   ]
  },
  {
   "cell_type": "code",
   "execution_count": 124,
   "id": "ee127e1f-090f-4035-bf90-c6edef0521bf",
   "metadata": {
    "tags": []
   },
   "outputs": [],
   "source": [
    "jumlah_penduduk_provinsi = jumlah_penduduk_provinsi[~jumlah_penduduk_provinsi.duplicated(subset=['provinsi', 'year'])]"
   ]
  },
  {
   "cell_type": "code",
   "execution_count": 125,
   "id": "ad71d151-ad3c-491f-9e36-586d1ed80ed4",
   "metadata": {
    "tags": []
   },
   "outputs": [],
   "source": [
    "comparison_jumlah = jumlah_penduduk_provinsi_groupby_manual.merge(jumlah_penduduk_provinsi, on=['provinsi', 'year'], how='left')"
   ]
  },
  {
   "cell_type": "code",
   "execution_count": 126,
   "id": "b81a9271-f4bb-4e55-9a91-f62fd18371db",
   "metadata": {
    "tags": []
   },
   "outputs": [],
   "source": [
    "comparison_jumlah['diff'] = (abs(comparison_jumlah['jumlah_penduduk_groupby'] - comparison_jumlah['jumlah_penduduk_query']) / comparison_jumlah['jumlah_penduduk_query']) * 100"
   ]
  },
  {
   "cell_type": "code",
   "execution_count": 127,
   "id": "35cc48f3-77ad-4cf1-b90e-9d19043113b3",
   "metadata": {
    "tags": []
   },
   "outputs": [],
   "source": [
    "comparison_jumlah = comparison_jumlah[comparison_jumlah['year']>=2018]"
   ]
  },
  {
   "cell_type": "code",
   "execution_count": 128,
   "id": "16eeff35-dae1-4ad4-a3c9-d0c02d210376",
   "metadata": {
    "tags": []
   },
   "outputs": [],
   "source": [
    "comparison_jumlah = comparison_jumlah.dropna()"
   ]
  },
  {
   "cell_type": "code",
   "execution_count": 129,
   "id": "fc09a3fb-ca44-478a-b430-f3458048bcc1",
   "metadata": {
    "tags": []
   },
   "outputs": [
    {
     "data": {
      "text/html": [
       "<div>\n",
       "<style scoped>\n",
       "    .dataframe tbody tr th:only-of-type {\n",
       "        vertical-align: middle;\n",
       "    }\n",
       "\n",
       "    .dataframe tbody tr th {\n",
       "        vertical-align: top;\n",
       "    }\n",
       "\n",
       "    .dataframe thead th {\n",
       "        text-align: right;\n",
       "    }\n",
       "</style>\n",
       "<table border=\"1\" class=\"dataframe\">\n",
       "  <thead>\n",
       "    <tr style=\"text-align: right;\">\n",
       "      <th></th>\n",
       "      <th>provinsi</th>\n",
       "      <th>year</th>\n",
       "      <th>jumlah_penduduk_groupby</th>\n",
       "      <th>jumlah_penduduk_query</th>\n",
       "      <th>diff</th>\n",
       "    </tr>\n",
       "  </thead>\n",
       "  <tbody>\n",
       "  </tbody>\n",
       "</table>\n",
       "</div>"
      ],
      "text/plain": [
       "Empty DataFrame\n",
       "Columns: [provinsi, year, jumlah_penduduk_groupby, jumlah_penduduk_query, diff]\n",
       "Index: []"
      ]
     },
     "execution_count": 129,
     "metadata": {},
     "output_type": "execute_result"
    }
   ],
   "source": [
    "comparison_jumlah[comparison_jumlah.isna().any(axis=1)]"
   ]
  },
  {
   "cell_type": "code",
   "execution_count": 130,
   "id": "0f01a457-0990-4d87-adb4-45188dc9a880",
   "metadata": {
    "tags": []
   },
   "outputs": [
    {
     "data": {
      "text/html": [
       "<div>\n",
       "<style scoped>\n",
       "    .dataframe tbody tr th:only-of-type {\n",
       "        vertical-align: middle;\n",
       "    }\n",
       "\n",
       "    .dataframe tbody tr th {\n",
       "        vertical-align: top;\n",
       "    }\n",
       "\n",
       "    .dataframe thead th {\n",
       "        text-align: right;\n",
       "    }\n",
       "</style>\n",
       "<table border=\"1\" class=\"dataframe\">\n",
       "  <thead>\n",
       "    <tr style=\"text-align: right;\">\n",
       "      <th></th>\n",
       "      <th>year</th>\n",
       "      <th>jumlah_penduduk_groupby</th>\n",
       "      <th>jumlah_penduduk_query</th>\n",
       "      <th>diff</th>\n",
       "    </tr>\n",
       "  </thead>\n",
       "  <tbody>\n",
       "    <tr>\n",
       "      <th>count</th>\n",
       "      <td>119.00</td>\n",
       "      <td>119.00</td>\n",
       "      <td>119.00</td>\n",
       "      <td>119.00</td>\n",
       "    </tr>\n",
       "    <tr>\n",
       "      <th>mean</th>\n",
       "      <td>2019.45</td>\n",
       "      <td>8442526.71</td>\n",
       "      <td>8353780.88</td>\n",
       "      <td>4.55</td>\n",
       "    </tr>\n",
       "    <tr>\n",
       "      <th>std</th>\n",
       "      <td>1.17</td>\n",
       "      <td>11783134.15</td>\n",
       "      <td>11681041.66</td>\n",
       "      <td>10.47</td>\n",
       "    </tr>\n",
       "    <tr>\n",
       "      <th>min</th>\n",
       "      <td>2018.00</td>\n",
       "      <td>30896.00</td>\n",
       "      <td>941392.00</td>\n",
       "      <td>0.00</td>\n",
       "    </tr>\n",
       "    <tr>\n",
       "      <th>25%</th>\n",
       "      <td>2018.00</td>\n",
       "      <td>2363295.00</td>\n",
       "      <td>2426588.00</td>\n",
       "      <td>0.51</td>\n",
       "    </tr>\n",
       "    <tr>\n",
       "      <th>50%</th>\n",
       "      <td>2019.00</td>\n",
       "      <td>4336900.00</td>\n",
       "      <td>4162359.00</td>\n",
       "      <td>1.63</td>\n",
       "    </tr>\n",
       "    <tr>\n",
       "      <th>75%</th>\n",
       "      <td>2021.00</td>\n",
       "      <td>8419613.00</td>\n",
       "      <td>8477377.00</td>\n",
       "      <td>3.92</td>\n",
       "    </tr>\n",
       "    <tr>\n",
       "      <th>max</th>\n",
       "      <td>2021.00</td>\n",
       "      <td>49935858.00</td>\n",
       "      <td>50103066.00</td>\n",
       "      <td>97.76</td>\n",
       "    </tr>\n",
       "  </tbody>\n",
       "</table>\n",
       "</div>"
      ],
      "text/plain": [
       "         year  jumlah_penduduk_groupby  jumlah_penduduk_query   diff\n",
       "count  119.00                   119.00                 119.00 119.00\n",
       "mean  2019.45               8442526.71             8353780.88   4.55\n",
       "std      1.17              11783134.15            11681041.66  10.47\n",
       "min   2018.00                 30896.00              941392.00   0.00\n",
       "25%   2018.00               2363295.00             2426588.00   0.51\n",
       "50%   2019.00               4336900.00             4162359.00   1.63\n",
       "75%   2021.00               8419613.00             8477377.00   3.92\n",
       "max   2021.00              49935858.00            50103066.00  97.76"
      ]
     },
     "execution_count": 130,
     "metadata": {},
     "output_type": "execute_result"
    }
   ],
   "source": [
    "comparison_jumlah.describe()"
   ]
  },
  {
   "cell_type": "code",
   "execution_count": 131,
   "id": "77d39cf9-300e-4dc9-9710-83af6b76007f",
   "metadata": {
    "tags": []
   },
   "outputs": [
    {
     "data": {
      "text/html": [
       "<div>\n",
       "<style scoped>\n",
       "    .dataframe tbody tr th:only-of-type {\n",
       "        vertical-align: middle;\n",
       "    }\n",
       "\n",
       "    .dataframe tbody tr th {\n",
       "        vertical-align: top;\n",
       "    }\n",
       "\n",
       "    .dataframe thead th {\n",
       "        text-align: right;\n",
       "    }\n",
       "</style>\n",
       "<table border=\"1\" class=\"dataframe\">\n",
       "  <thead>\n",
       "    <tr style=\"text-align: right;\">\n",
       "      <th></th>\n",
       "      <th>provinsi</th>\n",
       "      <th>year</th>\n",
       "      <th>jumlah_penduduk_groupby</th>\n",
       "      <th>jumlah_penduduk_query</th>\n",
       "      <th>diff</th>\n",
       "    </tr>\n",
       "  </thead>\n",
       "  <tbody>\n",
       "    <tr>\n",
       "      <th>117</th>\n",
       "      <td>Sulawesi Barat</td>\n",
       "      <td>2020</td>\n",
       "      <td>30896</td>\n",
       "      <td>1378107.00</td>\n",
       "      <td>97.76</td>\n",
       "    </tr>\n",
       "    <tr>\n",
       "      <th>104</th>\n",
       "      <td>Papua</td>\n",
       "      <td>2021</td>\n",
       "      <td>4577243</td>\n",
       "      <td>3438241.00</td>\n",
       "      <td>33.13</td>\n",
       "    </tr>\n",
       "    <tr>\n",
       "      <th>64</th>\n",
       "      <td>Kalimantan Timur</td>\n",
       "      <td>2020</td>\n",
       "      <td>4530761</td>\n",
       "      <td>3664669.00</td>\n",
       "      <td>23.63</td>\n",
       "    </tr>\n",
       "    <tr>\n",
       "      <th>65</th>\n",
       "      <td>Kalimantan Timur</td>\n",
       "      <td>2021</td>\n",
       "      <td>4574427</td>\n",
       "      <td>3708932.00</td>\n",
       "      <td>23.34</td>\n",
       "    </tr>\n",
       "    <tr>\n",
       "      <th>63</th>\n",
       "      <td>Kalimantan Timur</td>\n",
       "      <td>2019</td>\n",
       "      <td>4434708</td>\n",
       "      <td>3619676.00</td>\n",
       "      <td>22.52</td>\n",
       "    </tr>\n",
       "    <tr>\n",
       "      <th>...</th>\n",
       "      <td>...</td>\n",
       "      <td>...</td>\n",
       "      <td>...</td>\n",
       "      <td>...</td>\n",
       "      <td>...</td>\n",
       "    </tr>\n",
       "    <tr>\n",
       "      <th>43</th>\n",
       "      <td>Jawa Timur</td>\n",
       "      <td>2018</td>\n",
       "      <td>39500851</td>\n",
       "      <td>39521647.00</td>\n",
       "      <td>0.05</td>\n",
       "    </tr>\n",
       "    <tr>\n",
       "      <th>31</th>\n",
       "      <td>Jambi</td>\n",
       "      <td>2021</td>\n",
       "      <td>3642763</td>\n",
       "      <td>3641271.00</td>\n",
       "      <td>0.04</td>\n",
       "    </tr>\n",
       "    <tr>\n",
       "      <th>144</th>\n",
       "      <td>Sumatera Selatan</td>\n",
       "      <td>2019</td>\n",
       "      <td>8496898</td>\n",
       "      <td>8497173.00</td>\n",
       "      <td>0.00</td>\n",
       "    </tr>\n",
       "    <tr>\n",
       "      <th>25</th>\n",
       "      <td>Gorontalo</td>\n",
       "      <td>2018</td>\n",
       "      <td>1166142</td>\n",
       "      <td>1166139.00</td>\n",
       "      <td>0.00</td>\n",
       "    </tr>\n",
       "    <tr>\n",
       "      <th>143</th>\n",
       "      <td>Sumatera Selatan</td>\n",
       "      <td>2018</td>\n",
       "      <td>8391489</td>\n",
       "      <td>8391468.00</td>\n",
       "      <td>0.00</td>\n",
       "    </tr>\n",
       "  </tbody>\n",
       "</table>\n",
       "<p>119 rows × 5 columns</p>\n",
       "</div>"
      ],
      "text/plain": [
       "             provinsi  year  jumlah_penduduk_groupby  jumlah_penduduk_query  \\\n",
       "117    Sulawesi Barat  2020                    30896             1378107.00   \n",
       "104             Papua  2021                  4577243             3438241.00   \n",
       "64   Kalimantan Timur  2020                  4530761             3664669.00   \n",
       "65   Kalimantan Timur  2021                  4574427             3708932.00   \n",
       "63   Kalimantan Timur  2019                  4434708             3619676.00   \n",
       "..                ...   ...                      ...                    ...   \n",
       "43         Jawa Timur  2018                 39500851            39521647.00   \n",
       "31              Jambi  2021                  3642763             3641271.00   \n",
       "144  Sumatera Selatan  2019                  8496898             8497173.00   \n",
       "25          Gorontalo  2018                  1166142             1166139.00   \n",
       "143  Sumatera Selatan  2018                  8391489             8391468.00   \n",
       "\n",
       "     diff  \n",
       "117 97.76  \n",
       "104 33.13  \n",
       "64  23.63  \n",
       "65  23.34  \n",
       "63  22.52  \n",
       "..    ...  \n",
       "43   0.05  \n",
       "31   0.04  \n",
       "144  0.00  \n",
       "25   0.00  \n",
       "143  0.00  \n",
       "\n",
       "[119 rows x 5 columns]"
      ]
     },
     "execution_count": 131,
     "metadata": {},
     "output_type": "execute_result"
    }
   ],
   "source": [
    "comparison_jumlah.sort_values(by=['diff'], ascending=False)"
   ]
  },
  {
   "cell_type": "code",
   "execution_count": 132,
   "id": "985e9c0c-1153-441b-afef-746960b60778",
   "metadata": {
    "tags": []
   },
   "outputs": [
    {
     "data": {
      "text/plain": [
       "1.6277980054335468"
      ]
     },
     "execution_count": 132,
     "metadata": {},
     "output_type": "execute_result"
    }
   ],
   "source": [
    "comparison_jumlah['diff'].median()"
   ]
  },
  {
   "cell_type": "code",
   "execution_count": null,
   "id": "2067b0b7-215f-4f38-b915-dd8c949d9f82",
   "metadata": {},
   "outputs": [],
   "source": [
    "# Handle penduduk laki-laki\n",
    "penduduk_laki_laki = penduduk_laki_laki.rename(columns = {'value':'penduduk_laki_laki_provinsi'})\n",
    "penduduk_laki_laki = penduduk_laki_laki.merge(jumlah_penduduk_provinsi, on = ['year', 'provinsi'], how = 'inner').merge(jumlah_penduduk, on = ['year', 'provinsi'], how = 'inner')\n",
    "penduduk_laki_laki['penduduk_laki_laki'] = penduduk_laki_laki['jumlah_penduduk'] / penduduk_laki_laki['jumlah_penduduk_provinsi']*penduduk_laki_laki['penduduk_laki_laki_provinsi']\n",
    "penduduk_laki_laki.drop(columns = ['penduduk_laki_laki_provinsi', 'jumlah_penduduk_provinsi', 'jumlah_penduduk'], inplace = True)\n",
    "\n",
    "# Handle penduduk perempuan\n",
    "penduduk_perempuan['year'] = pd.DatetimeIndex(penduduk_perempuan['date']).year\n",
    "penduduk_perempuan.drop(columns = 'date', inplace = True)\n",
    "penduduk_perempuan.rename(columns = {'value':'penduduk_perempuan_provinsi'}, inplace = True)\n",
    "penduduk_perempuan['penduduk_perempuan_provinsi'] = penduduk_perempuan['penduduk_perempuan_provinsi'].astype(float)\n",
    "penduduk_perempuan = penduduk_perempuan.merge(jumlah_penduduk_provinsi, on = ['year', 'provinsi'], how = 'inner').merge(jumlah_penduduk, on = ['year', 'provinsi'], how = 'inner')\n",
    "penduduk_perempuan['penduduk_perempuan'] = penduduk_perempuan['jumlah_penduduk']/penduduk_perempuan['jumlah_penduduk_provinsi']*penduduk_perempuan['penduduk_perempuan_provinsi']\n",
    "penduduk_perempuan.drop(columns = ['penduduk_perempuan_provinsi', 'jumlah_penduduk_provinsi', 'jumlah_penduduk'], inplace = True)"
   ]
  }
 ],
 "metadata": {
  "environment": {
   "kernel": "katadata",
   "name": "tf2-cpu.2-11.m119",
   "type": "gcloud",
   "uri": "us-docker.pkg.dev/deeplearning-platform-release/gcr.io/tf2-cpu.2-11:m119"
  },
  "kernelspec": {
   "display_name": "katadata",
   "language": "python",
   "name": "katadata"
  },
  "language_info": {
   "codemirror_mode": {
    "name": "ipython",
    "version": 3
   },
   "file_extension": ".py",
   "mimetype": "text/x-python",
   "name": "python",
   "nbconvert_exporter": "python",
   "pygments_lexer": "ipython3",
   "version": "3.10.14"
  }
 },
 "nbformat": 4,
 "nbformat_minor": 5
}
